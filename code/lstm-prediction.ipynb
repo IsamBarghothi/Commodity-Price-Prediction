{
 "cells": [
  {
   "cell_type": "code",
   "execution_count": null,
   "metadata": {
    "collapsed": true
   },
   "outputs": [],
   "source": [
    "import math\n",
    "import yfinance as yf\n",
    "import numpy as np\n",
    "import pandas as pd\n",
    "from sklearn.preprocessing import MinMaxScaler\n",
    "from sklearn.metrics import r2_score\n",
    "import matplotlib.pyplot as plt\n",
    "import tensorflow as tf\n",
    "from tensorflow import keras\n",
    "from tensorflow.keras import layers"
   ]
  },
  {
   "cell_type": "code",
   "execution_count": null,
   "outputs": [],
   "source": [
    "#import data (10 year time frame)\n",
    "commodity_data = yf.download('GC=F', start='2012-10-10', end='2022-10-10')\n",
    "commodity_data.head()"
   ],
   "metadata": {
    "collapsed": false
   }
  },
  {
   "cell_type": "code",
   "execution_count": null,
   "outputs": [],
   "source": [
    "print(commodity_data.isnull().sum()) #check how many null values are in out dataset\n",
    "commodity_data.dropna(inplace=True)"
   ],
   "metadata": {
    "collapsed": false
   }
  },
  {
   "cell_type": "code",
   "execution_count": null,
   "outputs": [],
   "source": [
    "plt.figure(figsize=(15, 8))\n",
    "plt.title('Gold Price History (10-years)')\n",
    "plt.plot(commodity_data['Close'])\n",
    "plt.xlabel('Date')\n",
    "plt.ylabel('Prices ($)')"
   ],
   "metadata": {
    "collapsed": false
   }
  },
  {
   "cell_type": "code",
   "execution_count": null,
   "outputs": [],
   "source": [
    "close_prices = commodity_data['Close']\n",
    "values = close_prices.values\n",
    "training_data_len = math.ceil(len(values)* 0.8) #take 80% of the total data as training data\n",
    "\n",
    "scaler = MinMaxScaler(feature_range=(0,1))\n",
    "scaled_data = scaler.fit_transform(values.reshape(-1,1)) #Scale the prices between (-1, 1) to avoid intensive computation\n",
    "\n",
    "train_data = scaled_data[0: training_data_len, :]"
   ],
   "metadata": {
    "collapsed": false
   }
  },
  {
   "cell_type": "code",
   "execution_count": null,
   "outputs": [],
   "source": [
    "# x_train = [] #will be the inputs for training set\n",
    "# y_train = [] #is the output for training set\n",
    "# for i in range(60, len(train_data)):\n",
    "#     x_train.append(train_data[i-60:i, 0])\n",
    "#     y_train.append(train_data[i, 0])\n",
    "\n",
    "# #X_train is a nested list, which contains lists of 60 time-stamp prices.\n",
    "# #y_train is a list of stock prices which is the next day stock price, corresponding to each list in X_train\n",
    "# x_train, y_train = np.array(x_train), np.array(y_train)\n",
    "# x_train = np.reshape(x_train, (x_train.shape[0], x_train.shape[1], 1))\n",
    "\n",
    "# test_data = scaled_data[training_data_len-60: , : ]\n",
    "# x_test = []\n",
    "# y_test = values[training_data_len:]\n",
    "\n",
    "# for i in range(60, len(test_data)):\n",
    "#     x_test.append(test_data[i-60:i, 0])\n",
    "\n",
    "# x_test = np.array(x_test)\n",
    "# x_test = np.reshape(x_test, (x_test.shape[0], x_test.shape[1], 1))"
   ],
   "metadata": {
    "collapsed": false
   }
  },
  {
   "cell_type": "code",
   "execution_count": null,
   "outputs": [],
   "source": [
    "# Setting the window size (in this case, we'll use 7 days for a weekly prediction)\n",
    "window_size = 14\n",
    "\n",
    "# Initialize empty lists to store the training and test sets\n",
    "x_train, y_train, x_test, y_test = [], [], [], []\n",
    "\n",
    "# Iterate over the data\n",
    "for i in range(len(scaled_data) - window_size):\n",
    "    # Get the data for the current window\n",
    "    x = scaled_data[i:i+window_size, 0]\n",
    "    y = scaled_data[i+window_size, 0]\n",
    "\n",
    "    # Split the data into training and test sets\n",
    "    if i < training_data_len - window_size:\n",
    "        x_train.append(x)\n",
    "        y_train.append(y)\n",
    "    else:\n",
    "        x_test.append(x)\n",
    "        y_test.append(y)\n",
    "\n",
    "# Convert the lists to numpy arrays\n",
    "x_train, y_train = np.array(x_train), np.array(y_train)\n",
    "x_test, y_test = np.array(x_test), np.array(y_test)\n",
    "\n",
    "# Reshape the data for the LSTM model\n",
    "x_train = np.reshape(x_train, (x_train.shape[0], x_train.shape[1], 1))\n",
    "x_test = np.reshape(x_test, (x_test.shape[0], x_test.shape[1], 1))"
   ],
   "metadata": {
    "collapsed": false
   }
  },
  {
   "cell_type": "code",
   "execution_count": null,
   "outputs": [],
   "source": [
    "print(\"x_train size and shape: {}\".format(x_train.shape))\n",
    "print(\"y_train size and shape: {}\".format(y_train.shape))\n",
    "print(\"x_test size and shape: {}\".format(x_test.shape))\n",
    "print(\"y_test size and shape: {}\".format(y_test.shape))"
   ],
   "metadata": {
    "collapsed": false
   }
  },
  {
   "cell_type": "code",
   "execution_count": null,
   "outputs": [],
   "source": [
    "model = keras.Sequential()\n",
    "model.add(layers.LSTM(100, return_sequences=True, input_shape=(x_train.shape[1], 1)))\n",
    "model.add(layers.Dropout(0.2)) # Add dropout with a rate of 0.2\n",
    "model.add(layers.LSTM(100, return_sequences=False))\n",
    "model.add(layers.Dropout(0.2)) # Add dropout with a rate of 0.2\n",
    "model.add(layers.Dense(25))\n",
    "model.add(layers.Dense(1))\n",
    "model.compile(optimizer='adam', loss='mean_squared_error') #optimizer and loss\n",
    "model.summary()"
   ],
   "metadata": {
    "collapsed": false
   }
  },
  {
   "cell_type": "code",
   "execution_count": null,
   "outputs": [],
   "source": [
    "model.fit(x_train, y_train, batch_size=32, epochs=10)"
   ],
   "metadata": {
    "collapsed": false
   }
  },
  {
   "cell_type": "code",
   "execution_count": null,
   "outputs": [],
   "source": [
    "predictions = model.predict(x_test)\n",
    "predictions = scaler.inverse_transform(predictions) #inverse scaling\n",
    "y_test = scaler.inverse_transform(y_test.reshape(-1, 1)) #inverse scaling"
   ],
   "metadata": {
    "collapsed": false
   }
  },
  {
   "cell_type": "code",
   "execution_count": null,
   "outputs": [],
   "source": [
    "y_true = np.random.randint(0, 2, size=(2, 3))\n",
    "y_pred = np.random.random(size=(2, 3))\n",
    "#print(np.array_equal(loss.numpy(), np.mean(np.square(y_test - predictions), axis=-1)))\n"
   ],
   "metadata": {
    "collapsed": false
   }
  },
  {
   "cell_type": "code",
   "execution_count": null,
   "outputs": [],
   "source": [
    "data = commodity_data.filter(['Close'])\n",
    "train = data[:training_data_len]\n",
    "validation = data[training_data_len:].copy()\n",
    "validation.loc[:, 'Predictions'] = predictions\n",
    "plt.figure(figsize=(16,8))\n",
    "plt.title('Model')\n",
    "plt.xlabel('Date')\n",
    "plt.ylabel('Close Price USD ($)')\n",
    "plt.plot(train)\n",
    "plt.plot(validation[['Close', 'Predictions']])\n",
    "plt.legend(['Train', 'Val', 'Predictions'], loc='lower right')\n",
    "plt.show()"
   ],
   "metadata": {
    "collapsed": false
   }
  },
  {
   "cell_type": "code",
   "execution_count": null,
   "outputs": [],
   "source": [
    "from metrics import *\n",
    "y_test = np.array(y_test) # convert y_test to a numpy array\n",
    "y_test = y_test.reshape(-1, 1) # reshape y_test to a one-dimensional array\n",
    "print(f'r2  : {R2(predictions, y_test):.3F}')\n",
    "print(f'rse : {RSE(predictions, y_test):.3F}')\n",
    "print(f'mae : {MAE(predictions, y_test):.3F}')\n",
    "print(f'mse : {MSE(predictions, y_test):.3F}')\n",
    "print(f'rmse: {RMSE(predictions, y_test):.3F}')\n",
    "print(f'mape: {MAPE(predictions, y_test):.3F}')\n",
    "print(f'mspe: {MSPE(predictions, y_test):.7F}')"
   ],
   "metadata": {
    "collapsed": false
   }
  }
 ],
 "metadata": {
  "kernelspec": {
   "display_name": "Python 3",
   "language": "python",
   "name": "python3"
  },
  "language_info": {
   "codemirror_mode": {
    "name": "ipython",
    "version": 2
   },
   "file_extension": ".py",
   "mimetype": "text/x-python",
   "name": "python",
   "nbconvert_exporter": "python",
   "pygments_lexer": "ipython2",
   "version": "2.7.6"
  }
 },
 "nbformat": 4,
 "nbformat_minor": 0
}
